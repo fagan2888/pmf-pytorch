{
 "cells": [
  {
   "cell_type": "markdown",
   "metadata": {},
   "source": [
    "Implementing Probabilist Matrix Factorization in PyTorch. From this paper: https://papers.nips.cc/paper/3208-probabilistic-matrix-factorization.pdf.\n",
    "\n",
    "Data from here: https://grouplens.org/datasets/movielens/"
   ]
  },
  {
   "cell_type": "code",
   "execution_count": 4,
   "metadata": {},
   "outputs": [],
   "source": [
    "import pandas as pd\n",
    "import torch"
   ]
  },
  {
   "cell_type": "code",
   "execution_count": 5,
   "metadata": {},
   "outputs": [],
   "source": [
    "ratings = pd.read_csv('ml-latest-small/ratings.csv')"
   ]
  },
  {
   "cell_type": "code",
   "execution_count": 6,
   "metadata": {},
   "outputs": [
    {
     "data": {
      "text/html": [
       "<div>\n",
       "<style scoped>\n",
       "    .dataframe tbody tr th:only-of-type {\n",
       "        vertical-align: middle;\n",
       "    }\n",
       "\n",
       "    .dataframe tbody tr th {\n",
       "        vertical-align: top;\n",
       "    }\n",
       "\n",
       "    .dataframe thead th {\n",
       "        text-align: right;\n",
       "    }\n",
       "</style>\n",
       "<table border=\"1\" class=\"dataframe\">\n",
       "  <thead>\n",
       "    <tr style=\"text-align: right;\">\n",
       "      <th></th>\n",
       "      <th>userId</th>\n",
       "      <th>movieId</th>\n",
       "      <th>rating</th>\n",
       "      <th>timestamp</th>\n",
       "    </tr>\n",
       "  </thead>\n",
       "  <tbody>\n",
       "    <tr>\n",
       "      <th>count</th>\n",
       "      <td>100836.000000</td>\n",
       "      <td>100836.000000</td>\n",
       "      <td>100836.000000</td>\n",
       "      <td>1.008360e+05</td>\n",
       "    </tr>\n",
       "    <tr>\n",
       "      <th>mean</th>\n",
       "      <td>326.127564</td>\n",
       "      <td>19435.295718</td>\n",
       "      <td>3.501557</td>\n",
       "      <td>1.205946e+09</td>\n",
       "    </tr>\n",
       "    <tr>\n",
       "      <th>std</th>\n",
       "      <td>182.618491</td>\n",
       "      <td>35530.987199</td>\n",
       "      <td>1.042529</td>\n",
       "      <td>2.162610e+08</td>\n",
       "    </tr>\n",
       "    <tr>\n",
       "      <th>min</th>\n",
       "      <td>1.000000</td>\n",
       "      <td>1.000000</td>\n",
       "      <td>0.500000</td>\n",
       "      <td>8.281246e+08</td>\n",
       "    </tr>\n",
       "    <tr>\n",
       "      <th>25%</th>\n",
       "      <td>177.000000</td>\n",
       "      <td>1199.000000</td>\n",
       "      <td>3.000000</td>\n",
       "      <td>1.019124e+09</td>\n",
       "    </tr>\n",
       "    <tr>\n",
       "      <th>50%</th>\n",
       "      <td>325.000000</td>\n",
       "      <td>2991.000000</td>\n",
       "      <td>3.500000</td>\n",
       "      <td>1.186087e+09</td>\n",
       "    </tr>\n",
       "    <tr>\n",
       "      <th>75%</th>\n",
       "      <td>477.000000</td>\n",
       "      <td>8122.000000</td>\n",
       "      <td>4.000000</td>\n",
       "      <td>1.435994e+09</td>\n",
       "    </tr>\n",
       "    <tr>\n",
       "      <th>max</th>\n",
       "      <td>610.000000</td>\n",
       "      <td>193609.000000</td>\n",
       "      <td>5.000000</td>\n",
       "      <td>1.537799e+09</td>\n",
       "    </tr>\n",
       "  </tbody>\n",
       "</table>\n",
       "</div>"
      ],
      "text/plain": [
       "              userId        movieId         rating     timestamp\n",
       "count  100836.000000  100836.000000  100836.000000  1.008360e+05\n",
       "mean      326.127564   19435.295718       3.501557  1.205946e+09\n",
       "std       182.618491   35530.987199       1.042529  2.162610e+08\n",
       "min         1.000000       1.000000       0.500000  8.281246e+08\n",
       "25%       177.000000    1199.000000       3.000000  1.019124e+09\n",
       "50%       325.000000    2991.000000       3.500000  1.186087e+09\n",
       "75%       477.000000    8122.000000       4.000000  1.435994e+09\n",
       "max       610.000000  193609.000000       5.000000  1.537799e+09"
      ]
     },
     "execution_count": 6,
     "metadata": {},
     "output_type": "execute_result"
    }
   ],
   "source": [
    "ratings.describe()"
   ]
  },
  {
   "cell_type": "code",
   "execution_count": 238,
   "metadata": {},
   "outputs": [],
   "source": [
    "rating_matrix = ratings.pivot(index='userId', columns='movieId', values='rating')\n",
    "n_users, n_movies = rating_matrix.shape\n",
    "# Scaling ratings to between 0 and 1, this helps our model by constraining predictions\n",
    "min_rating, max_rating = ratings['rating'].min(), ratings['rating'].max()\n",
    "rating_matrix = (rating_matrix - min_rating) / (max_rating - min_rating)"
   ]
  },
  {
   "cell_type": "code",
   "execution_count": 239,
   "metadata": {},
   "outputs": [],
   "source": [
    "# Replacing missing ratings with -1 so we can filter them out later\n",
    "rating_matrix[rating_matrix.isnull()] = -1\n",
    "rating_matrix = torch.FloatTensor(rating_matrix.values)"
   ]
  },
  {
   "cell_type": "code",
   "execution_count": 258,
   "metadata": {},
   "outputs": [
    {
     "data": {
      "text/plain": [
       "tensor([[-6.5396e-03, -2.3539e-03, -1.8817e-02, -1.5198e-02,  9.0273e-03],\n",
       "        [-5.4049e-03, -2.4260e-05,  1.0203e-02, -1.2512e-02, -1.4097e-02],\n",
       "        [ 6.5175e-04, -1.8315e-03,  2.6132e-03, -8.3010e-03,  4.1832e-03],\n",
       "        ...,\n",
       "        [ 7.8845e-03,  1.3597e-02, -6.7369e-04, -2.5653e-02,  1.3477e-02],\n",
       "        [ 9.8239e-03,  4.0798e-03,  1.0044e-02,  1.4503e-02, -2.1100e-03],\n",
       "        [-2.2349e-02,  4.6519e-03, -1.9321e-03,  1.6966e-02,  1.0361e-02]])"
      ]
     },
     "execution_count": 258,
     "metadata": {},
     "output_type": "execute_result"
    }
   ],
   "source": [
    "# This is how we can define our feature matrices\n",
    "# We're going to be training these, so we'll need gradients\n",
    "latent_vectors = 5\n",
    "user_features = torch.randn(n_users, latent_vectors, requires_grad=True)\n",
    "user_features.data.mul_(0.01)\n",
    "movie_features = torch.randn(n_movies, latent_vectors, requires_grad=True)\n",
    "movie_features.data.mul_(0.01)"
   ]
  },
  {
   "cell_type": "code",
   "execution_count": 259,
   "metadata": {},
   "outputs": [],
   "source": [
    "class PMFLoss(torch.nn.Module):\n",
    "    def __init__(self, lam_u=0.3, lam_v=0.3):\n",
    "        super().__init__()\n",
    "        self.lam_u = lam_u\n",
    "        self.lam_v = lam_v \n",
    "    \n",
    "    def forward(self, matrix, u_features, v_features):\n",
    "        non_zero_mask = (matrix != -1).type(torch.FloatTensor)\n",
    "        predicted = torch.sigmoid(torch.mm(u_features, v_features.t()))\n",
    "        \n",
    "        diff = (matrix - predicted)**2\n",
    "        prediction_error = torch.sum(diff*non_zero_mask)\n",
    "\n",
    "        u_regularization = self.lam_u * torch.sum(u_features.norm(dim=1))\n",
    "        v_regularization = self.lam_v * torch.sum(v_features.norm(dim=1))\n",
    "        \n",
    "        return prediction_error + u_regularization + v_regularization"
   ]
  },
  {
   "cell_type": "code",
   "execution_count": 260,
   "metadata": {},
   "outputs": [],
   "source": [
    "criterion = PMFLoss()\n",
    "loss = criterion(rating_matrix, user_features, movie_features)"
   ]
  },
  {
   "cell_type": "code",
   "execution_count": 261,
   "metadata": {},
   "outputs": [
    {
     "data": {
      "text/plain": [
       "tensor(8291.1846)"
      ]
     },
     "execution_count": 261,
     "metadata": {},
     "output_type": "execute_result"
    }
   ],
   "source": [
    "loss"
   ]
  },
  {
   "cell_type": "code",
   "execution_count": 262,
   "metadata": {},
   "outputs": [],
   "source": [
    "loss.backward()"
   ]
  },
  {
   "cell_type": "code",
   "execution_count": 264,
   "metadata": {},
   "outputs": [
    {
     "name": "stdout",
     "output_type": "stream",
     "text": [
      "Step 0, 8252.765\n",
      "Step 10, 7135.935\n",
      "Step 20, 4187.129\n",
      "Step 30, 3497.064\n",
      "Step 40, 3078.548\n",
      "Step 50, 2748.131\n",
      "Step 60, 2456.536\n",
      "Step 70, 2197.751\n",
      "Step 80, 1972.338\n",
      "Step 90, 1780.675\n",
      "Step 100, 1619.302\n",
      "Step 110, 1484.564\n",
      "Step 120, 1372.859\n",
      "Step 130, 1280.696\n",
      "Step 140, 1204.615\n",
      "Step 150, 1141.495\n",
      "Step 160, 1088.808\n",
      "Step 170, 1044.518\n",
      "Step 180, 1006.979\n",
      "Step 190, 974.852\n",
      "Step 200, 947.060\n",
      "Step 210, 922.785\n",
      "Step 220, 901.409\n",
      "Step 230, 882.460\n",
      "Step 240, 865.547\n",
      "Step 250, 850.338\n",
      "Step 260, 836.557\n",
      "Step 270, 823.975\n",
      "Step 280, 812.400\n",
      "Step 290, 801.680\n",
      "Step 300, 791.728\n",
      "Step 310, 782.502\n",
      "Step 320, 773.928\n",
      "Step 330, 765.920\n",
      "Step 340, 758.409\n",
      "Step 350, 751.341\n",
      "Step 360, 744.669\n",
      "Step 370, 738.365\n",
      "Step 380, 732.406\n",
      "Step 390, 726.762\n",
      "Step 400, 721.405\n",
      "Step 410, 716.313\n",
      "Step 420, 711.466\n",
      "Step 430, 706.846\n",
      "Step 440, 702.437\n",
      "Step 450, 698.223\n",
      "Step 460, 694.188\n",
      "Step 470, 690.320\n",
      "Step 480, 686.604\n",
      "Step 490, 683.026\n",
      "Step 500, 679.569\n",
      "Step 510, 676.229\n",
      "Step 520, 673.015\n",
      "Step 530, 669.917\n",
      "Step 540, 666.932\n",
      "Step 550, 664.060\n",
      "Step 560, 661.293\n",
      "Step 570, 658.621\n",
      "Step 580, 656.040\n",
      "Step 590, 653.544\n",
      "Step 600, 651.132\n",
      "Step 610, 648.800\n",
      "Step 620, 646.539\n",
      "Step 630, 644.350\n",
      "Step 640, 642.224\n",
      "Step 650, 640.163\n",
      "Step 660, 638.169\n",
      "Step 670, 636.236\n",
      "Step 680, 634.363\n",
      "Step 690, 632.546\n",
      "Step 700, 630.777\n",
      "Step 710, 629.064\n",
      "Step 720, 627.392\n",
      "Step 730, 625.772\n",
      "Step 740, 624.192\n",
      "Step 750, 622.651\n",
      "Step 760, 621.148\n",
      "Step 770, 619.690\n",
      "Step 780, 618.262\n",
      "Step 790, 616.872\n",
      "Step 800, 615.523\n",
      "Step 810, 614.216\n",
      "Step 820, 612.939\n",
      "Step 830, 611.696\n",
      "Step 840, 610.484\n",
      "Step 850, 609.297\n",
      "Step 860, 608.141\n",
      "Step 870, 607.011\n",
      "Step 880, 605.911\n",
      "Step 890, 604.823\n",
      "Step 900, 603.764\n",
      "Step 910, 602.723\n",
      "Step 920, 601.704\n",
      "Step 930, 600.696\n",
      "Step 940, 599.721\n",
      "Step 950, 598.767\n",
      "Step 960, 597.833\n",
      "Step 970, 596.925\n",
      "Step 980, 596.032\n",
      "Step 990, 595.162\n"
     ]
    }
   ],
   "source": [
    "# Actual training loop now\n",
    "\n",
    "latent_vectors = 30\n",
    "user_features = torch.randn(n_users, latent_vectors, requires_grad=True)\n",
    "user_features.data.mul_(0.01)\n",
    "movie_features = torch.randn(n_movies, latent_vectors, requires_grad=True)\n",
    "movie_features.data.mul_(0.01)\n",
    "\n",
    "pmferror = PMFLoss(lam_u=0.05, lam_v=0.05)\n",
    "optimizer = torch.optim.Adam([user_features, movie_features], lr=0.01)\n",
    "for step, epoch in enumerate(range(1000)):\n",
    "    optimizer.zero_grad()\n",
    "    loss = pmferror(rating_matrix, user_features, movie_features)\n",
    "    loss.backward()\n",
    "    optimizer.step()\n",
    "    if step % 10 == 0:\n",
    "        print(f\"Step {step}, {loss:.3f}\")"
   ]
  },
  {
   "cell_type": "code",
   "execution_count": 271,
   "metadata": {},
   "outputs": [
    {
     "name": "stdout",
     "output_type": "stream",
     "text": [
      "Predictions: \n",
      " tensor([ 4.,  4.,  4.,  4.,  3.,  4.,  5.,  4.,  3.,  3.,  4.,  5.,\n",
      "         3.,  4.,  3.,  1.,  5.,  5.,  3.,  2.,  3.,  3.,  3.,  2.,\n",
      "         3.,  4.,  2.,  3.,  4.,  4.,  5.,  3.,  5.,  4.,  3.,  4.,\n",
      "         3.,  4.,  2.,  5.,  5.,  5.,  3.,  3.])\n",
      "Truth: \n",
      " tensor([ 4.,  4.,  4.,  4.,  3.,  4.,  5.,  4.,  3.,  3.,  4.,  5.,\n",
      "         3.,  4.,  3.,  1.,  5.,  5.,  3.,  2.,  3.,  3.,  3.,  2.,\n",
      "         3.,  4.,  2.,  3.,  4.,  4.,  5.,  3.,  5.,  4.,  3.,  4.,\n",
      "         3.,  5.,  3.,  5.,  5.,  5.,  3.,  3.])\n"
     ]
    }
   ],
   "source": [
    "# Checking if our model can reproduce the true user ratings\n",
    "user_idx = 4\n",
    "user_ratings = rating_matrix[user_idx, :]\n",
    "true_ratings = user_ratings != -1\n",
    "predictions = torch.sigmoid(torch.mm(user_features[user_idx, :].view(1, -1), movie_features.t()))\n",
    "print(\"Predictions: \\n\", (predictions.squeeze()[true_ratings]*(max_rating - min_rating) + min_rating).round())\n",
    "print(\"Truth: \\n\", (user_ratings[true_ratings]*(max_rating - min_rating) + min_rating))"
   ]
  },
  {
   "cell_type": "code",
   "execution_count": null,
   "metadata": {},
   "outputs": [],
   "source": []
  }
 ],
 "metadata": {
  "kernelspec": {
   "display_name": "Python 3",
   "language": "python",
   "name": "python3"
  },
  "language_info": {
   "codemirror_mode": {
    "name": "ipython",
    "version": 3
   },
   "file_extension": ".py",
   "mimetype": "text/x-python",
   "name": "python",
   "nbconvert_exporter": "python",
   "pygments_lexer": "ipython3",
   "version": "3.6.6"
  }
 },
 "nbformat": 4,
 "nbformat_minor": 2
}
