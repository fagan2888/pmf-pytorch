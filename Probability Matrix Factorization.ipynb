{
 "cells": [
  {
   "cell_type": "markdown",
   "metadata": {},
   "source": [
    "# Implementing Probabilistic Matrix Factorization in PyTorch\n",
    "\n",
    "From this paper: https://papers.nips.cc/paper/3208-probabilistic-matrix-factorization.pdf.\n",
    "\n",
    "Data from here: https://grouplens.org/datasets/movielens/\n",
    "\n",
    "Our goal here is to find feature vectors for our users and movies that allow us to compare them. We start with a big matrix $R$ of movie ratings, with users as rows and movies as columns. Since users don't rate all movies, this is a pretty sparse matrix with a lot of missing values. \n",
    "\n",
    "What we can do is factor $R$ into two matrices $U$ and $V$ representing latent feature vectors for users and movies. With these latent features, we can compare users with each other, movies with each other, and predict ratings for movies users haven't seen.\n",
    "\n",
    "![matrix factorization](matrix_factorization.png)\n",
    "\n",
    "The big idea behind this paper is that we're going to treat the latent vectors as parameters in a Bayesian model. As a reminder, Bayes theorem:\n",
    "\n",
    "$$\n",
    "\\large P(\\theta \\mid D) \\propto P(D \\mid \\theta) P(\\theta)\n",
    "$$\n",
    "\n",
    "In our model we try to predict the rating matrix $R$ with $U$ and $V$\n",
    "\n",
    "$$ \\large \\hat{R} = U^T V$$\n",
    "\n",
    "In our model we assume the ratings are drawn from a normal distribution with mean $\\hat{R}$. What's really cool is that we can place priors on our latent features. \n",
    "\n",
    "$$\n",
    "\\begin{aligned}\n",
    "R &\\sim \\mathrm{Normal}(U^T V, \\sigma^2) \\\\\n",
    "U &\\sim \\mathrm{Normal}(0, \\sigma_U^2) \\\\\n",
    "V &\\sim \\mathrm{Normal}(0, \\sigma_V^2)\n",
    "\\end{aligned}\n",
    "$$\n",
    "\n",
    "The authors of the paper go further and build a hierachical structure for the user vectors\n",
    "\n",
    "$$\n",
    "\\begin{aligned}\n",
    "U_i &= Y_i + \\frac{\\sum_k^M I_{ik}W_k}{\\sum_k^M I_{ik}} \\\\\n",
    "Y &\\sim \\mathrm{Normal}(0, \\sigma_U^2) \\\\\n",
    "W &\\sim \\mathrm{Normal}(0, \\sigma_W^2)\n",
    "\\end{aligned}\n",
    "$$\n",
    "\n",
    "With this model, we can maximize the posterior probability with respect to $U$ and $V$, or $V$, $Y$, and $W$ for the hierarchical model. In effect this is just a linear model with fancy regularization.\n",
    "\n",
    "The authors also do things like converting the ratings to be between 0 and 1, then taking the sigmoid of $U^T V$. For empirical reasons."
   ]
  },
  {
   "cell_type": "code",
   "execution_count": 1,
   "metadata": {},
   "outputs": [],
   "source": [
    "import pandas as pd\n",
    "import torch"
   ]
  },
  {
   "cell_type": "code",
   "execution_count": 3,
   "metadata": {},
   "outputs": [],
   "source": [
    "ratings = pd.read_csv('ml-latest-small/ratings.csv')"
   ]
  },
  {
   "cell_type": "code",
   "execution_count": 4,
   "metadata": {},
   "outputs": [
    {
     "data": {
      "text/html": [
       "<div>\n",
       "<style scoped>\n",
       "    .dataframe tbody tr th:only-of-type {\n",
       "        vertical-align: middle;\n",
       "    }\n",
       "\n",
       "    .dataframe tbody tr th {\n",
       "        vertical-align: top;\n",
       "    }\n",
       "\n",
       "    .dataframe thead th {\n",
       "        text-align: right;\n",
       "    }\n",
       "</style>\n",
       "<table border=\"1\" class=\"dataframe\">\n",
       "  <thead>\n",
       "    <tr style=\"text-align: right;\">\n",
       "      <th></th>\n",
       "      <th>userId</th>\n",
       "      <th>movieId</th>\n",
       "      <th>rating</th>\n",
       "      <th>timestamp</th>\n",
       "    </tr>\n",
       "  </thead>\n",
       "  <tbody>\n",
       "    <tr>\n",
       "      <th>count</th>\n",
       "      <td>100836.000000</td>\n",
       "      <td>100836.000000</td>\n",
       "      <td>100836.000000</td>\n",
       "      <td>1.008360e+05</td>\n",
       "    </tr>\n",
       "    <tr>\n",
       "      <th>mean</th>\n",
       "      <td>326.127564</td>\n",
       "      <td>19435.295718</td>\n",
       "      <td>3.501557</td>\n",
       "      <td>1.205946e+09</td>\n",
       "    </tr>\n",
       "    <tr>\n",
       "      <th>std</th>\n",
       "      <td>182.618491</td>\n",
       "      <td>35530.987199</td>\n",
       "      <td>1.042529</td>\n",
       "      <td>2.162610e+08</td>\n",
       "    </tr>\n",
       "    <tr>\n",
       "      <th>min</th>\n",
       "      <td>1.000000</td>\n",
       "      <td>1.000000</td>\n",
       "      <td>0.500000</td>\n",
       "      <td>8.281246e+08</td>\n",
       "    </tr>\n",
       "    <tr>\n",
       "      <th>25%</th>\n",
       "      <td>177.000000</td>\n",
       "      <td>1199.000000</td>\n",
       "      <td>3.000000</td>\n",
       "      <td>1.019124e+09</td>\n",
       "    </tr>\n",
       "    <tr>\n",
       "      <th>50%</th>\n",
       "      <td>325.000000</td>\n",
       "      <td>2991.000000</td>\n",
       "      <td>3.500000</td>\n",
       "      <td>1.186087e+09</td>\n",
       "    </tr>\n",
       "    <tr>\n",
       "      <th>75%</th>\n",
       "      <td>477.000000</td>\n",
       "      <td>8122.000000</td>\n",
       "      <td>4.000000</td>\n",
       "      <td>1.435994e+09</td>\n",
       "    </tr>\n",
       "    <tr>\n",
       "      <th>max</th>\n",
       "      <td>610.000000</td>\n",
       "      <td>193609.000000</td>\n",
       "      <td>5.000000</td>\n",
       "      <td>1.537799e+09</td>\n",
       "    </tr>\n",
       "  </tbody>\n",
       "</table>\n",
       "</div>"
      ],
      "text/plain": [
       "              userId        movieId         rating     timestamp\n",
       "count  100836.000000  100836.000000  100836.000000  1.008360e+05\n",
       "mean      326.127564   19435.295718       3.501557  1.205946e+09\n",
       "std       182.618491   35530.987199       1.042529  2.162610e+08\n",
       "min         1.000000       1.000000       0.500000  8.281246e+08\n",
       "25%       177.000000    1199.000000       3.000000  1.019124e+09\n",
       "50%       325.000000    2991.000000       3.500000  1.186087e+09\n",
       "75%       477.000000    8122.000000       4.000000  1.435994e+09\n",
       "max       610.000000  193609.000000       5.000000  1.537799e+09"
      ]
     },
     "execution_count": 4,
     "metadata": {},
     "output_type": "execute_result"
    }
   ],
   "source": [
    "ratings.describe()"
   ]
  },
  {
   "cell_type": "code",
   "execution_count": 5,
   "metadata": {},
   "outputs": [],
   "source": [
    "rating_matrix = ratings.pivot(index='userId', columns='movieId', values='rating')\n",
    "n_users, n_movies = rating_matrix.shape\n",
    "# Scaling ratings to between 0 and 1, this helps our model by constraining predictions\n",
    "min_rating, max_rating = ratings['rating'].min(), ratings['rating'].max()\n",
    "rating_matrix = (rating_matrix - min_rating) / (max_rating - min_rating)"
   ]
  },
  {
   "cell_type": "code",
   "execution_count": 6,
   "metadata": {},
   "outputs": [],
   "source": [
    "# Replacing missing ratings with -1 so we can filter them out later\n",
    "rating_matrix[rating_matrix.isnull()] = -1\n",
    "rating_matrix = torch.FloatTensor(rating_matrix.values)"
   ]
  },
  {
   "cell_type": "code",
   "execution_count": 7,
   "metadata": {},
   "outputs": [
    {
     "data": {
      "text/plain": [
       "tensor([[ 0.0067, -0.0105,  0.0074,  0.0099,  0.0122],\n",
       "        [ 0.0039, -0.0055, -0.0020, -0.0106,  0.0109],\n",
       "        [ 0.0120, -0.0112, -0.0107,  0.0054, -0.0020],\n",
       "        ...,\n",
       "        [-0.0019, -0.0210,  0.0027,  0.0274, -0.0096],\n",
       "        [ 0.0152, -0.0083,  0.0015, -0.0007, -0.0005],\n",
       "        [-0.0048,  0.0103, -0.0027,  0.0072,  0.0056]])"
      ]
     },
     "execution_count": 7,
     "metadata": {},
     "output_type": "execute_result"
    }
   ],
   "source": [
    "# This is how we can define our feature matrices\n",
    "# We're going to be training these, so we'll need gradients\n",
    "latent_vectors = 5\n",
    "user_features = torch.randn(n_users, latent_vectors, requires_grad=True)\n",
    "user_features.data.mul_(0.01)\n",
    "movie_features = torch.randn(n_movies, latent_vectors, requires_grad=True)\n",
    "movie_features.data.mul_(0.01)"
   ]
  },
  {
   "cell_type": "code",
   "execution_count": 8,
   "metadata": {},
   "outputs": [],
   "source": [
    "class PMFLoss(torch.nn.Module):\n",
    "    def __init__(self, lam_u=0.3, lam_v=0.3):\n",
    "        super().__init__()\n",
    "        self.lam_u = lam_u\n",
    "        self.lam_v = lam_v\n",
    "    \n",
    "    def forward(self, matrix, u_features, v_features):\n",
    "        non_zero_mask = (matrix != -1).type(torch.FloatTensor)\n",
    "        predicted = torch.sigmoid(torch.mm(u_features, v_features.t()))\n",
    "        \n",
    "        diff = (matrix - predicted)**2\n",
    "        prediction_error = torch.sum(diff*non_zero_mask)\n",
    "\n",
    "        u_regularization = self.lam_u * torch.sum(u_features.norm(dim=1))\n",
    "        v_regularization = self.lam_v * torch.sum(v_features.norm(dim=1))\n",
    "        \n",
    "        return prediction_error + u_regularization + v_regularization"
   ]
  },
  {
   "cell_type": "code",
   "execution_count": 9,
   "metadata": {},
   "outputs": [],
   "source": [
    "criterion = PMFLoss()\n",
    "loss = criterion(rating_matrix, user_features, movie_features)"
   ]
  },
  {
   "cell_type": "code",
   "execution_count": null,
   "metadata": {},
   "outputs": [
    {
     "name": "stdout",
     "output_type": "stream",
     "text": [
      "Step 0, 8252.830\n",
      "Step 50, 2594.168\n",
      "Step 100, 1554.992\n",
      "Step 150, 1133.337\n",
      "Step 200, 949.591\n",
      "Step 250, 854.038\n",
      "Step 300, 793.739\n",
      "Step 350, 751.326\n",
      "Step 400, 719.344\n",
      "Step 450, 695.155\n",
      "Step 500, 676.232\n",
      "Step 550, 660.853\n",
      "Step 600, 648.111\n",
      "Step 650, 637.387\n"
     ]
    }
   ],
   "source": [
    "# Actual training loop now\n",
    "\n",
    "latent_vectors = 30\n",
    "user_features = torch.randn(n_users, latent_vectors, requires_grad=True)\n",
    "user_features.data.mul_(0.01)\n",
    "movie_features = torch.randn(n_movies, latent_vectors, requires_grad=True)\n",
    "movie_features.data.mul_(0.01)\n",
    "\n",
    "pmferror = PMFLoss(lam_u=0.05, lam_v=0.05)\n",
    "optimizer = torch.optim.Adam([user_features, movie_features], lr=0.01)\n",
    "for step, epoch in enumerate(range(1000)):\n",
    "    optimizer.zero_grad()\n",
    "    loss = pmferror(rating_matrix, user_features, movie_features)\n",
    "    loss.backward()\n",
    "    optimizer.step()\n",
    "    if step % 50 == 0:\n",
    "        print(f\"Step {step}, {loss:.3f}\")"
   ]
  },
  {
   "cell_type": "code",
   "execution_count": 34,
   "metadata": {},
   "outputs": [
    {
     "name": "stdout",
     "output_type": "stream",
     "text": [
      "Predictions: \n",
      " tensor([4., 2., 4., 4., 3., 5., 3., 4., 5., 3., 3., 4., 2., 4., 4., 3., 4., 3.,\n",
      "        3., 3., 5., 3., 3., 4., 3., 5., 3., 3., 5., 5., 3., 4., 4., 1., 3., 4.,\n",
      "        3., 4., 2., 5., 3., 3., 3., 5., 3., 4., 3.], grad_fn=<RoundBackward>)\n",
      "Truth: \n",
      " tensor([4., 2., 4., 4., 3., 5., 3., 4., 5., 3., 3., 4., 2., 5., 4., 3., 4., 3.,\n",
      "        3., 3., 5., 3., 3., 4., 3., 5., 3., 3., 5., 5., 3., 4., 5., 1., 3., 4.,\n",
      "        3., 4., 2., 5., 3., 3., 3., 5., 3., 4., 3.])\n"
     ]
    }
   ],
   "source": [
    "# Checking if our model can reproduce the true user ratings\n",
    "user_idx = 7\n",
    "user_ratings = rating_matrix[user_idx, :]\n",
    "true_ratings = user_ratings != -1\n",
    "predictions = torch.sigmoid(torch.mm(user_features[user_idx, :].view(1, -1), movie_features.t()))\n",
    "predicted_ratings = (predictions.squeeze()[true_ratings]*(max_rating - min_rating) + min_rating).round()\n",
    "actual_ratings = (user_ratings[true_ratings]*(max_rating - min_rating) + min_rating).round()\n",
    "\n",
    "print(\"Predictions: \\n\", predicted_ratings)\n",
    "print(\"Truth: \\n\", actual_ratings)"
   ]
  }
 ],
 "metadata": {
  "kernelspec": {
   "display_name": "Python 3",
   "language": "python",
   "name": "python3"
  },
  "language_info": {
   "codemirror_mode": {
    "name": "ipython",
    "version": 3
   },
   "file_extension": ".py",
   "mimetype": "text/x-python",
   "name": "python",
   "nbconvert_exporter": "python",
   "pygments_lexer": "ipython3",
   "version": "3.6.8"
  }
 },
 "nbformat": 4,
 "nbformat_minor": 2
}
